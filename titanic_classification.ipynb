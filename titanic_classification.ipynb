{
 "cells": [
  {
   "cell_type": "code",
   "execution_count": 13,
   "id": "1f0119a9",
   "metadata": {
    "execution": {
     "iopub.execute_input": "2023-06-25T14:36:15.083490Z",
     "iopub.status.busy": "2023-06-25T14:36:15.082926Z",
     "iopub.status.idle": "2023-06-25T14:37:23.026242Z",
     "shell.execute_reply": "2023-06-25T14:37:23.024607Z"
    },
    "papermill": {
     "duration": 67.952356,
     "end_time": "2023-06-25T14:37:23.029569",
     "exception": false,
     "start_time": "2023-06-25T14:36:15.077213",
     "status": "completed"
    },
    "scrolled": true,
    "tags": [],
    "ExecuteTime": {
     "end_time": "2023-06-25T15:03:34.860270400Z",
     "start_time": "2023-06-25T15:03:13.910483800Z"
    }
   },
   "outputs": [
    {
     "name": "stdout",
     "output_type": "stream",
     "text": [
      "Requirement already satisfied: numpy in c:\\users\\moham\\anaconda3\\lib\\site-packages (1.24.3)\n",
      "^C\n",
      "Requirement already satisfied: pandas in c:\\users\\moham\\anaconda3\\lib\\site-packages (1.5.3)\n",
      "Requirement already satisfied: python-dateutil>=2.8.1 in c:\\users\\moham\\anaconda3\\lib\\site-packages (from pandas) (2.8.2)\n",
      "Requirement already satisfied: pytz>=2020.1 in c:\\users\\moham\\anaconda3\\lib\\site-packages (from pandas) (2022.7)\n",
      "Requirement already satisfied: numpy>=1.21.0 in c:\\users\\moham\\anaconda3\\lib\\site-packages (from pandas) (1.24.3)\n",
      "Requirement already satisfied: six>=1.5 in c:\\users\\moham\\anaconda3\\lib\\site-packages (from python-dateutil>=2.8.1->pandas) (1.16.0)\n",
      "Requirement already satisfied: seaborn in c:\\users\\moham\\anaconda3\\lib\\site-packages (0.12.2)\n",
      "Requirement already satisfied: pandas>=0.25 in c:\\users\\moham\\anaconda3\\lib\\site-packages (from seaborn) (1.5.3)\n",
      "Requirement already satisfied: numpy!=1.24.0,>=1.17 in c:\\users\\moham\\anaconda3\\lib\\site-packages (from seaborn) (1.24.3)\n",
      "Requirement already satisfied: matplotlib!=3.6.1,>=3.1 in c:\\users\\moham\\anaconda3\\lib\\site-packages (from seaborn) (3.7.1)\n",
      "Requirement already satisfied: contourpy>=1.0.1 in c:\\users\\moham\\anaconda3\\lib\\site-packages (from matplotlib!=3.6.1,>=3.1->seaborn) (1.0.7)\n",
      "Requirement already satisfied: cycler>=0.10 in c:\\users\\moham\\anaconda3\\lib\\site-packages (from matplotlib!=3.6.1,>=3.1->seaborn) (0.11.0)\n",
      "Requirement already satisfied: kiwisolver>=1.0.1 in c:\\users\\moham\\anaconda3\\lib\\site-packages (from matplotlib!=3.6.1,>=3.1->seaborn) (1.4.4)\n",
      "Requirement already satisfied: fonttools>=4.22.0 in c:\\users\\moham\\anaconda3\\lib\\site-packages (from matplotlib!=3.6.1,>=3.1->seaborn) (4.39.2)\n",
      "Requirement already satisfied: pyparsing>=2.3.1 in c:\\users\\moham\\anaconda3\\lib\\site-packages (from matplotlib!=3.6.1,>=3.1->seaborn) (3.0.9)\n",
      "Requirement already satisfied: pillow>=6.2.0 in c:\\users\\moham\\anaconda3\\lib\\site-packages (from matplotlib!=3.6.1,>=3.1->seaborn) (9.4.0)\n",
      "Requirement already satisfied: packaging>=20.0 in c:\\users\\moham\\anaconda3\\lib\\site-packages (from matplotlib!=3.6.1,>=3.1->seaborn) (23.0)\n",
      "Requirement already satisfied: python-dateutil>=2.7 in c:\\users\\moham\\anaconda3\\lib\\site-packages (from matplotlib!=3.6.1,>=3.1->seaborn) (2.8.2)\n",
      "Requirement already satisfied: pytz>=2020.1 in c:\\users\\moham\\anaconda3\\lib\\site-packages (from pandas>=0.25->seaborn) (2022.7)\n",
      "Requirement already satisfied: six>=1.5 in c:\\users\\moham\\anaconda3\\lib\\site-packages (from python-dateutil>=2.7->matplotlib!=3.6.1,>=3.1->seaborn) (1.16.0)\n",
      "Requirement already satisfied: matplotlib in c:\\users\\moham\\anaconda3\\lib\\site-packages (3.7.1)\n",
      "Requirement already satisfied: cycler>=0.10 in c:\\users\\moham\\anaconda3\\lib\\site-packages (from matplotlib) (0.11.0)\n",
      "Requirement already satisfied: packaging>=20.0 in c:\\users\\moham\\anaconda3\\lib\\site-packages (from matplotlib) (23.0)\n",
      "Requirement already satisfied: fonttools>=4.22.0 in c:\\users\\moham\\anaconda3\\lib\\site-packages (from matplotlib) (4.39.2)\n",
      "Requirement already satisfied: contourpy>=1.0.1 in c:\\users\\moham\\anaconda3\\lib\\site-packages (from matplotlib) (1.0.7)\n",
      "Requirement already satisfied: python-dateutil>=2.7 in c:\\users\\moham\\anaconda3\\lib\\site-packages (from matplotlib) (2.8.2)\n",
      "Requirement already satisfied: pillow>=6.2.0 in c:\\users\\moham\\anaconda3\\lib\\site-packages (from matplotlib) (9.4.0)\n",
      "Requirement already satisfied: kiwisolver>=1.0.1 in c:\\users\\moham\\anaconda3\\lib\\site-packages (from matplotlib) (1.4.4)\n",
      "Requirement already satisfied: pyparsing>=2.3.1 in c:\\users\\moham\\anaconda3\\lib\\site-packages (from matplotlib) (3.0.9)\n",
      "Requirement already satisfied: numpy>=1.20 in c:\\users\\moham\\anaconda3\\lib\\site-packages (from matplotlib) (1.24.3)\n",
      "Requirement already satisfied: six>=1.5 in c:\\users\\moham\\anaconda3\\lib\\site-packages (from python-dateutil>=2.7->matplotlib) (1.16.0)\n",
      "Requirement already satisfied: plotly in c:\\users\\moham\\anaconda3\\lib\\site-packages (5.14.1)\n",
      "Requirement already satisfied: tenacity>=6.2.0 in c:\\users\\moham\\anaconda3\\lib\\site-packages (from plotly) (8.2.2)\n",
      "Requirement already satisfied: packaging in c:\\users\\moham\\anaconda3\\lib\\site-packages (from plotly) (23.0)\n",
      "Requirement already satisfied: torch in c:\\users\\moham\\anaconda3\\lib\\site-packages (2.0.1)\n",
      "Requirement already satisfied: filelock in c:\\users\\moham\\anaconda3\\lib\\site-packages (from torch) (3.9.0)\n",
      "Requirement already satisfied: typing-extensions in c:\\users\\moham\\anaconda3\\lib\\site-packages (from torch) (4.5.0)\n",
      "Requirement already satisfied: sympy in c:\\users\\moham\\anaconda3\\lib\\site-packages (from torch) (1.11.1)\n",
      "Requirement already satisfied: networkx in c:\\users\\moham\\anaconda3\\lib\\site-packages (from torch) (2.8.4)\n",
      "Requirement already satisfied: jinja2 in c:\\users\\moham\\anaconda3\\lib\\site-packages (from torch) (3.1.2)\n",
      "Requirement already satisfied: MarkupSafe>=2.0 in c:\\users\\moham\\anaconda3\\lib\\site-packages (from jinja2->torch) (2.1.1)\n",
      "Requirement already satisfied: mpmath>=0.19 in c:\\users\\moham\\anaconda3\\lib\\site-packages (from sympy->torch) (1.3.0)\n"
     ]
    }
   ],
   "source": [
    "!pip install numpy\n",
    "!pip install pandas\n",
    "!pip install seaborn\n",
    "!pip install matplotlib\n",
    "!pip install plotly\n",
    "!pip install torch"
   ]
  },
  {
   "cell_type": "code",
   "execution_count": 19,
   "id": "da468fad",
   "metadata": {
    "execution": {
     "iopub.execute_input": "2023-06-25T14:37:23.043253Z",
     "iopub.status.busy": "2023-06-25T14:37:23.042723Z",
     "iopub.status.idle": "2023-06-25T14:37:28.139571Z",
     "shell.execute_reply": "2023-06-25T14:37:28.138354Z"
    },
    "papermill": {
     "duration": 5.106731,
     "end_time": "2023-06-25T14:37:28.142593",
     "exception": false,
     "start_time": "2023-06-25T14:37:23.035862",
     "status": "completed"
    },
    "tags": [],
    "ExecuteTime": {
     "end_time": "2023-06-25T15:03:35.599233500Z",
     "start_time": "2023-06-25T15:03:34.862271500Z"
    }
   },
   "outputs": [],
   "source": [
    "import numpy as np\n",
    "import pandas as pd\n",
    "# import seaborn as sns\n",
    "# import matplotlib.pyplot as plt\n",
    "import plotly as pot\n",
    "import torch"
   ]
  },
  {
   "cell_type": "code",
   "execution_count": 20,
   "id": "b15a0898",
   "metadata": {
    "execution": {
     "iopub.execute_input": "2023-06-25T14:37:28.154780Z",
     "iopub.status.busy": "2023-06-25T14:37:28.153311Z",
     "iopub.status.idle": "2023-06-25T14:37:28.195735Z",
     "shell.execute_reply": "2023-06-25T14:37:28.194453Z"
    },
    "papermill": {
     "duration": 0.051251,
     "end_time": "2023-06-25T14:37:28.198586",
     "exception": false,
     "start_time": "2023-06-25T14:37:28.147335",
     "status": "completed"
    },
    "tags": [],
    "ExecuteTime": {
     "end_time": "2023-06-25T15:03:44.434988100Z",
     "start_time": "2023-06-25T15:03:44.406992300Z"
    }
   },
   "outputs": [],
   "source": [
    "try:\n",
    "    train_data = pd.read_csv('/kaggle/input/titanic/train.csv')\n",
    "    test_data = pd.read_csv('/kaggle/input/titanic/test.csv')\n",
    "except FileNotFoundError:\n",
    "    train_data = pd.read_csv('Data/train.csv')\n",
    "    test_data = pd.read_csv('Data/test.csv')"
   ]
  },
  {
   "cell_type": "code",
   "execution_count": 21,
   "id": "b115d0d7",
   "metadata": {
    "execution": {
     "iopub.execute_input": "2023-06-25T14:37:28.209487Z",
     "iopub.status.busy": "2023-06-25T14:37:28.209097Z",
     "iopub.status.idle": "2023-06-25T14:37:28.242855Z",
     "shell.execute_reply": "2023-06-25T14:37:28.241148Z"
    },
    "papermill": {
     "duration": 0.042112,
     "end_time": "2023-06-25T14:37:28.245385",
     "exception": false,
     "start_time": "2023-06-25T14:37:28.203273",
     "status": "completed"
    },
    "tags": [],
    "ExecuteTime": {
     "end_time": "2023-06-25T15:03:45.877871100Z",
     "start_time": "2023-06-25T15:03:45.855874500Z"
    }
   },
   "outputs": [
    {
     "name": "stdout",
     "output_type": "stream",
     "text": [
      "<class 'pandas.core.frame.DataFrame'>\n",
      "RangeIndex: 891 entries, 0 to 890\n",
      "Data columns (total 12 columns):\n",
      " #   Column       Non-Null Count  Dtype  \n",
      "---  ------       --------------  -----  \n",
      " 0   PassengerId  891 non-null    int64  \n",
      " 1   Survived     891 non-null    int64  \n",
      " 2   Pclass       891 non-null    int64  \n",
      " 3   Name         891 non-null    object \n",
      " 4   Sex          891 non-null    object \n",
      " 5   Age          714 non-null    float64\n",
      " 6   SibSp        891 non-null    int64  \n",
      " 7   Parch        891 non-null    int64  \n",
      " 8   Ticket       891 non-null    object \n",
      " 9   Fare         891 non-null    float64\n",
      " 10  Cabin        204 non-null    object \n",
      " 11  Embarked     889 non-null    object \n",
      "dtypes: float64(2), int64(5), object(5)\n",
      "memory usage: 83.7+ KB\n"
     ]
    }
   ],
   "source": [
    "train_data.info()"
   ]
  },
  {
   "cell_type": "code",
   "execution_count": 22,
   "id": "6dc71cf6",
   "metadata": {
    "execution": {
     "iopub.execute_input": "2023-06-25T14:37:28.257530Z",
     "iopub.status.busy": "2023-06-25T14:37:28.256343Z",
     "iopub.status.idle": "2023-06-25T14:37:28.270829Z",
     "shell.execute_reply": "2023-06-25T14:37:28.269714Z"
    },
    "papermill": {
     "duration": 0.023461,
     "end_time": "2023-06-25T14:37:28.273598",
     "exception": false,
     "start_time": "2023-06-25T14:37:28.250137",
     "status": "completed"
    },
    "tags": [],
    "ExecuteTime": {
     "end_time": "2023-06-25T15:03:52.127654700Z",
     "start_time": "2023-06-25T15:03:52.101138900Z"
    }
   },
   "outputs": [
    {
     "name": "stdout",
     "output_type": "stream",
     "text": [
      "<class 'pandas.core.frame.DataFrame'>\n",
      "RangeIndex: 418 entries, 0 to 417\n",
      "Data columns (total 11 columns):\n",
      " #   Column       Non-Null Count  Dtype  \n",
      "---  ------       --------------  -----  \n",
      " 0   PassengerId  418 non-null    int64  \n",
      " 1   Pclass       418 non-null    int64  \n",
      " 2   Name         418 non-null    object \n",
      " 3   Sex          418 non-null    object \n",
      " 4   Age          332 non-null    float64\n",
      " 5   SibSp        418 non-null    int64  \n",
      " 6   Parch        418 non-null    int64  \n",
      " 7   Ticket       418 non-null    object \n",
      " 8   Fare         417 non-null    float64\n",
      " 9   Cabin        91 non-null     object \n",
      " 10  Embarked     418 non-null    object \n",
      "dtypes: float64(2), int64(4), object(5)\n",
      "memory usage: 36.0+ KB\n"
     ]
    }
   ],
   "source": [
    "test_data.info()"
   ]
  },
  {
   "cell_type": "code",
   "execution_count": 23,
   "id": "40deea05",
   "metadata": {
    "execution": {
     "iopub.execute_input": "2023-06-25T14:37:28.285089Z",
     "iopub.status.busy": "2023-06-25T14:37:28.284709Z",
     "iopub.status.idle": "2023-06-25T14:37:47.829878Z",
     "shell.execute_reply": "2023-06-25T14:37:47.828594Z"
    },
    "papermill": {
     "duration": 19.554264,
     "end_time": "2023-06-25T14:37:47.832607",
     "exception": false,
     "start_time": "2023-06-25T14:37:28.278343",
     "status": "completed"
    },
    "tags": [],
    "ExecuteTime": {
     "end_time": "2023-06-25T15:03:54.442410200Z",
     "start_time": "2023-06-25T15:03:53.765214100Z"
    }
   },
   "outputs": [],
   "source": [
    "for col in train_data.columns:\n",
    "    p = pot.plot(train_data[col], kind='hist')"
   ]
  }
 ],
 "metadata": {
  "kernelspec": {
   "display_name": "Python 3",
   "language": "python",
   "name": "python3"
  },
  "language_info": {
   "codemirror_mode": {
    "name": "ipython",
    "version": 3
   },
   "file_extension": ".py",
   "mimetype": "text/x-python",
   "name": "python",
   "nbconvert_exporter": "python",
   "pygments_lexer": "ipython3",
   "version": "3.10.10"
  },
  "papermill": {
   "default_parameters": {},
   "duration": 109.371258,
   "end_time": "2023-06-25T14:37:50.550167",
   "environment_variables": {},
   "exception": null,
   "input_path": "__notebook__.ipynb",
   "output_path": "__notebook__.ipynb",
   "parameters": {},
   "start_time": "2023-06-25T14:36:01.178909",
   "version": "2.4.0"
  }
 },
 "nbformat": 4,
 "nbformat_minor": 5
}
